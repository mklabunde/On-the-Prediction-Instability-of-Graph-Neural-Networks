{
 "cells": [
  {
   "cell_type": "code",
   "execution_count": null,
   "metadata": {},
   "outputs": [],
   "source": [
    "import numpy as np\n",
    "import pandas as pd\n",
    "import seaborn as sns\n",
    "from pathlib import Path\n"
   ]
  },
  {
   "cell_type": "code",
   "execution_count": null,
   "metadata": {},
   "outputs": [],
   "source": [
    "df = pd.read_parquet(Path(\"../reports/publicsplit.parquet\"))\n",
    "print(len(df))\n",
    "df[\"acc_diff\"] = df[\"Acc1\"] - df[\"Acc2\"]\n",
    "df.head()"
   ]
  },
  {
   "cell_type": "markdown",
   "metadata": {},
   "source": [
    "Only needed if you want to build the full table including results on CPU and with fixed seeds.\n",
    "Otherwise, skip the following cells (until the next section)."
   ]
  },
  {
   "cell_type": "code",
   "execution_count": null,
   "metadata": {},
   "outputs": [],
   "source": [
    "\n",
    "cpu = pd.read_parquet(Path(\"../reports/public_gatcpu.parquet\"))\n",
    "cpu.loc[:, \"Model\"] = \"GAT (CPU)\"\n",
    "cpu[\"acc_diff\"] = cpu[\"Acc1\"] - cpu[\"Acc2\"]\n",
    "cpu.head()"
   ]
  },
  {
   "cell_type": "code",
   "execution_count": null,
   "metadata": {},
   "outputs": [],
   "source": [
    "df = df.append(cpu, ignore_index=True)"
   ]
  },
  {
   "cell_type": "code",
   "execution_count": null,
   "metadata": {},
   "outputs": [],
   "source": [
    "fixedseed = pd.read_parquet(\"../reports/public_fixedseed.parquet\")\n",
    "\n",
    "\n",
    "def convert_name(s: str):\n",
    "    if s == \"GAT2017\":\n",
    "        return \"GAT (fixed)\"\n",
    "    elif s == \"GCN2017\":\n",
    "        return \"GCN (fixed)\"\n",
    "    else:\n",
    "        return s\n",
    "\n",
    "fixedseed.loc[:, \"Model\"] = fixedseed[\"Model\"].apply(convert_name)\n",
    "fixedseed[\"acc_diff\"] = fixedseed[\"Acc1\"] - fixedseed[\"Acc2\"]\n",
    "fixedseed.head()"
   ]
  },
  {
   "cell_type": "code",
   "execution_count": null,
   "metadata": {},
   "outputs": [],
   "source": [
    "df = df.append(fixedseed, ignore_index=True)"
   ]
  },
  {
   "cell_type": "code",
   "execution_count": null,
   "metadata": {},
   "outputs": [],
   "source": [
    "\n",
    "fixedseed_cpu = pd.read_parquet(\"/root/feature-similarity/reports/public_fixedseed_cpu.parquet\")\n",
    "\n",
    "\n",
    "def convert_name(s: str):\n",
    "    if s == \"GAT2017\":\n",
    "        return \"GAT (fixed, CPU)\"\n",
    "    elif s == \"GCN2017\":\n",
    "        return \"GCN (fixed, CPU)\"\n",
    "    else:\n",
    "        return s\n",
    "\n",
    "fixedseed_cpu.loc[:, \"Model\"] = fixedseed_cpu[\"Model\"].apply(convert_name)\n",
    "fixedseed_cpu[\"acc_diff\"] = fixedseed_cpu[\"Acc1\"] - fixedseed_cpu[\"Acc2\"]\n",
    "fixedseed_cpu.head()"
   ]
  },
  {
   "cell_type": "code",
   "execution_count": null,
   "metadata": {},
   "outputs": [],
   "source": [
    "df = df.append(fixedseed_cpu, ignore_index=True)"
   ]
  },
  {
   "cell_type": "markdown",
   "metadata": {},
   "source": [
    "## Create a summary table"
   ]
  },
  {
   "cell_type": "code",
   "execution_count": null,
   "metadata": {},
   "outputs": [],
   "source": [
    "meantab = pd.pivot_table(df, values=\"Value\", index=[\"Dataset\", \"Model\"], columns=[\"Metric\"], aggfunc=lambda x: 100 * np.mean(x))\n",
    "stdtab = pd.pivot_table(df, values=\"Value\", index=[\"Dataset\", \"Model\"], columns=[\"Metric\"], aggfunc=lambda x: 100 * np.std(x))\n",
    "meanacctab = pd.pivot_table(df, values=\"Acc-mean\", index=[\"Dataset\", \"Model\"], aggfunc=lambda x: 100 * np.mean(x))\n",
    "stdacctab = pd.pivot_table(df, values=\"Acc-std\", index=[\"Dataset\", \"Model\"], aggfunc=lambda x: 100 * np.mean(x))"
   ]
  },
  {
   "cell_type": "code",
   "execution_count": null,
   "metadata": {},
   "outputs": [],
   "source": [
    "mean_conv = lambda x: f\"{x:0.1f} $\\\\pm$\"\n",
    "std_conv = lambda x: f\" {x:0.1f}\"\n",
    "tab = meantab.applymap(mean_conv) + stdtab.applymap(std_conv)\n",
    "tempseries = meanacctab.applymap(mean_conv)[\"Acc-mean\"] + stdacctab.applymap(std_conv)[\"Acc-std\"]\n",
    "tempseries.name = \"Acc-mean\"\n",
    "tab = tab.join(tempseries)\n",
    "\n",
    "\n",
    "def col_order(idx):\n",
    "    col_to_idx = {\n",
    "        \"Acc-mean\": 0,\n",
    "        \"PI\": 1,\n",
    "        \"NormPI\": 2,\n",
    "        \"True PI\": 3,\n",
    "        \"False PI\": 4,\n",
    "        \"MAE\": 5,\n",
    "        \"SymKL\": 6,\n",
    "    }\n",
    "    return pd.Index([col_to_idx[s] for s in idx])\n",
    "\n",
    "\n",
    "def row_order(idx):\n",
    "    col_to_idx = {\n",
    "        \"CiteSeer\": 0,\n",
    "        \"Pubmed\": 1,\n",
    "        \"CS\": 2,\n",
    "        \"Physics\": 3,\n",
    "        \"Computers\": 4,\n",
    "        \"Photo\": 5,\n",
    "        \"WikiCS\": 6,\n",
    "    }\n",
    "    return pd.Index([col_to_idx[s] for s in idx])\n",
    "\n",
    "\n",
    "tab = tab.sort_index(axis=1, key=col_order)\n",
    "tab = tab.sort_index(axis=0, key=row_order, level=0)\n",
    "\n",
    "\n",
    "col_to_name = {\n",
    "    \"Acc-mean\": \"Accuracy\",\n",
    "    \"PI\": \"$d$\",\n",
    "    \"NormPI\": \"$d_{norm}$\",\n",
    "    \"True PI\": \"$d_{True}$\",\n",
    "    \"False PI\": \"$d_{False}$\",\n",
    "    \"MAE\": \"MAE\",\n",
    "    \"SymKL\": \"SymKL\",\n",
    "}\n",
    "tab = tab.rename(col_to_name, axis=\"columns\")\n",
    "model_to_name = {\"GAT2017\": \"GAT\", \"GCN2017\": \"GCN\"}\n",
    "tab = tab.rename(model_to_name, axis=\"rows\", level=1)\n",
    "\n",
    "\n",
    "tab = tab.drop(\"SymKL\", axis=\"columns\")\n",
    "tab\n",
    "tab.to_latex(\n",
    "    \"../reports/tab1.tex\",\n",
    "    sparsify=True,\n",
    "    escape=False,\n",
    "    multirow=True,\n",
    "    multicolumn=False,\n",
    "    column_format=\"llcccccc\",\n",
    ")\n",
    "\n"
   ]
  },
  {
   "cell_type": "code",
   "execution_count": null,
   "metadata": {},
   "outputs": [],
   "source": []
  }
 ],
 "metadata": {
  "kernelspec": {
   "display_name": "Python 3.9.7 ('gnn-pred-stab2')",
   "language": "python",
   "name": "python3"
  },
  "language_info": {
   "codemirror_mode": {
    "name": "ipython",
    "version": 3
   },
   "file_extension": ".py",
   "mimetype": "text/x-python",
   "name": "python",
   "nbconvert_exporter": "python",
   "pygments_lexer": "ipython3",
   "version": "3.9.7"
  },
  "orig_nbformat": 4,
  "vscode": {
   "interpreter": {
    "hash": "a025ec1460671b346f9029600cbf16ba8053a3559cdaac43e2ff92d87630c4a8"
   }
  }
 },
 "nbformat": 4,
 "nbformat_minor": 2
}
